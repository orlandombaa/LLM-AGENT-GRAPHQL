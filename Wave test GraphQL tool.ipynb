{
 "cells": [
  {
   "cell_type": "markdown",
   "source": [
    "# Wave test using GraphQL tool from langchain\n",
    "An agent will be used for the integration of the graphql tool with the purpose of being able to make a query to the OpenTargetPlatform . An agent needs 3 basic componets which are:\n",
    "\n",
    "- LLM model\n",
    "- Tools\n",
    "- Agent"
   ],
   "metadata": {
    "collapsed": false
   }
  },
  {
   "cell_type": "markdown",
   "source": [
    "Coding Test of Wave:\n",
    "**Desafío de Programación-3: Consultas en Lenguaje Natural Contra una Base de Datos Estructural**"
   ],
   "metadata": {
    "collapsed": false
   }
  },
  {
   "cell_type": "markdown",
   "source": [
    "## Instrucciones\n"
   ],
   "metadata": {
    "collapsed": false
   }
  },
  {
   "cell_type": "markdown",
   "source": [
    "Repo de referencia: Onuralp Soylemez (@cx0): https://github.com/cx0/chatGPT-for-genetics\n",
    "\n",
    "El objetivo de este desafío de programación es construir una función que tome una instrucción en lenguaje natural o una pregunta, y devuelva una respuesta apropiada utilizando los puntos finales de la API de Open Targets, específicamente la **Plataforma GraphQL de Open Targets.**\n",
    "\n",
    "Puedes usar los scripts de Onuralp como punto de partida, o puedes escribirlo desde cero.\n",
    "\n",
    "**Tareas:**\n",
    "\n",
    "- Manejar consultas de un solo paso, por ejemplo: \"¿Cuáles son los objetivos de vorinostat?\", \"Encuentra medicamentos que se usan para tratar la colitis ulcerosa.\" etc.\n",
    "\n",
    "- Consultas de 2 pasos, por ejemplo: \"¿Qué enfermedades están asociadas con los genes a los que se dirige fasudil?\", \"Muestra todas las enfermedades que tienen al menos 5 vías asociadas con Alzheimer\"\n",
    "\n",
    "\n",
    "**Expectativas:**\n",
    "- Puedes construir la solución en un cuaderno Jupyter, pero preferimos verla como una funcionalidad de línea de comandos (CLI)\n",
    "- La respuesta debe listar las entidades consultadas, sin párrafos o texto extra (es decir que te de solo la respuesta y ya)\n",
    "- Probaremos la solución en un conjunto de instrucciones y preguntas reservadas (10 casos para cada tarea).\n",
    "- Puedes necesitar una cuenta de OpenAI para el acceso a la API de OpenAI o un acceso similar a la API de LLM.\n"
   ],
   "metadata": {
    "collapsed": false
   }
  },
  {
   "cell_type": "markdown",
   "source": [
    "Library import"
   ],
   "metadata": {
    "collapsed": false
   }
  },
  {
   "cell_type": "code",
   "execution_count": 50,
   "outputs": [],
   "source": [
    "from langchain import OpenAI\n",
    "from langchain.agents import load_tools, initialize_agent, AgentType, Tool\n",
    "from langchain.utilities import GraphQLAPIWrapper\n",
    "from langchain.prompts import PromptTemplate\n",
    "from langchain.chains import LLMChain"
   ],
   "metadata": {
    "collapsed": false,
    "ExecuteTime": {
     "end_time": "2023-07-10T20:57:29.086675Z",
     "start_time": "2023-07-10T20:57:29.077029Z"
    }
   }
  },
  {
   "cell_type": "markdown",
   "source": [
    "## 1) LLM integration\n",
    "The LLM modelos will be integrated in a chain object in order to integrate a promtemplate too"
   ],
   "metadata": {
    "collapsed": false
   }
  },
  {
   "cell_type": "code",
   "execution_count": 51,
   "outputs": [],
   "source": [
    "# 1.1) Promt Template (in case we need to make a prompt engineering)\n",
    "prompt = PromptTemplate(\n",
    "input_variables=[\"query\"],\n",
    "template=\"{query}\"\n",
    ")\n",
    "\n",
    "# 1.2) LLM Model , in this case a LLM modelo from OpenAI\n",
    "llm = OpenAI(openai_api_key=\"YOURAPI\",\n",
    "                    model_name=\"gpt-3.5-turbo\", temperature=0.85)\n",
    "\n",
    "# 1.3) Creation of the chain object (integrates the llm and the prompt template)\n",
    "llm_chain = LLMChain(llm=llm, prompt=prompt)"
   ],
   "metadata": {
    "collapsed": false,
    "ExecuteTime": {
     "end_time": "2023-07-10T20:57:29.516127Z",
     "start_time": "2023-07-10T20:57:29.507323Z"
    }
   }
  },
  {
   "cell_type": "markdown",
   "source": [
    "## 2) Set up of tools\n",
    "Here will be set up the tools for the agent (an LLM models for general answers and the graphQL tool)"
   ],
   "metadata": {
    "collapsed": false
   }
  },
  {
   "cell_type": "code",
   "execution_count": 52,
   "outputs": [],
   "source": [
    "# 2.1) We set up the LLM as a tool in order to answer general questions\n",
    "llm_tool = Tool(name='Language Model',\n",
    "                func=llm_chain.run,\n",
    "                description='use this tool for general purpose queries and logic')\n",
    "\n",
    "# 2.2) We set up the graphql tool\n",
    "graph_tool = load_tools( # IMPORTANT: usamos load_tools porque ya es una herramienta interna de Langchaing\n",
    "    tool_names = [\"graphql\"],\n",
    "    graphql_endpoint=\"https://api.platform.opentargets.org/api/v4/graphql\",\n",
    "    llm=llm)\n",
    "\n",
    "# 2.3)  List of tools that the agent will take\n",
    "tools = [llm_tool, graph_tool[0]]"
   ],
   "metadata": {
    "collapsed": false,
    "ExecuteTime": {
     "end_time": "2023-07-10T20:57:29.950226Z",
     "start_time": "2023-07-10T20:57:29.940420Z"
    }
   }
  },
  {
   "cell_type": "markdown",
   "source": [
    "## 3) Agent"
   ],
   "metadata": {
    "collapsed": false
   }
  },
  {
   "cell_type": "code",
   "execution_count": 53,
   "outputs": [
    {
     "data": {
      "text/plain": "langchain.agents.agent.AgentExecutor"
     },
     "execution_count": 53,
     "metadata": {},
     "output_type": "execute_result"
    }
   ],
   "source": [
    "agent = initialize_agent(\n",
    "    agent=AgentType.ZERO_SHOT_REACT_DESCRIPTION, # Type of agent\n",
    "    tools=tools, # herramienta que le doy\n",
    "    llm=llm,\n",
    "    verbose=True,\n",
    "    max_iterations =6 )\n",
    "\n",
    "# IMPORANT: The zero shot react agent has no memory, all the answers that it will give  are just for one question. It case you want to use a agent with memoory you have to use other type of agent such as Conversational React\n",
    "\n",
    "# This agent uses the ReAct framework to determine which tool to use based solely on the tool's description. Any number of tools can be provided. This agent requires that a description is provided for each tool.\n",
    "\n",
    "type(agent)"
   ],
   "metadata": {
    "collapsed": false,
    "ExecuteTime": {
     "end_time": "2023-07-10T20:57:30.422514Z",
     "start_time": "2023-07-10T20:57:30.392777Z"
    }
   }
  },
  {
   "cell_type": "markdown",
   "source": [
    "Look the current prompt of the agent"
   ],
   "metadata": {
    "collapsed": false
   }
  },
  {
   "cell_type": "code",
   "execution_count": 54,
   "outputs": [
    {
     "name": "stdout",
     "output_type": "stream",
     "text": [
      "Answer the following questions as best you can. You have access to the following tools:\n",
      "\n",
      "Language Model: use this tool for general purpose queries and logic\n",
      "query_graphql:     Input to this tool is a detailed and correct GraphQL query, output is a result from the API.\n",
      "    If the query is not correct, an error message will be returned.\n",
      "    If an error is returned with 'Bad request' in it, rewrite the query and try again.\n",
      "    If an error is returned with 'Unauthorized' in it, do not try again, but tell the user to change their authentication.\n",
      "\n",
      "    Example Input: query {{ allUsers {{ id, name, email }} }}    \n",
      "\n",
      "Use the following format:\n",
      "\n",
      "Question: the input question you must answer\n",
      "Thought: you should always think about what to do\n",
      "Action: the action to take, should be one of [Language Model, query_graphql]\n",
      "Action Input: the input to the action\n",
      "Observation: the result of the action\n",
      "... (this Thought/Action/Action Input/Observation can repeat N times)\n",
      "Thought: I now know the final answer\n",
      "Final Answer: the final answer to the original input question\n",
      "\n",
      "Begin!\n",
      "\n",
      "Question: {input}\n",
      "Thought:{agent_scratchpad}\n"
     ]
    }
   ],
   "source": [
    "print(agent.agent.llm_chain.prompt.template)"
   ],
   "metadata": {
    "collapsed": false,
    "ExecuteTime": {
     "end_time": "2023-07-10T20:57:31.055465Z",
     "start_time": "2023-07-10T20:57:31.043583Z"
    }
   }
  },
  {
   "cell_type": "markdown",
   "source": [
    "### 3.1) Execute the agent"
   ],
   "metadata": {
    "collapsed": false
   }
  },
  {
   "cell_type": "markdown",
   "source": [
    "**PROMPT ENGENNERING**\n",
    "_Un prefijo (prefix) podría ser una parte de una entrada o prompt que proporciona algún tipo de contexto o instrucción para el modelo, y un sufijo podría ser una parte adicional de la entrada que podría afectar la salida del modelo de alguna manera._"
   ],
   "metadata": {
    "collapsed": false
   }
  },
  {
   "cell_type": "markdown",
   "source": [
    "**SEGUNDO INTENTO**"
   ],
   "metadata": {
    "collapsed": false
   }
  },
  {
   "cell_type": "code",
   "execution_count": 58,
   "outputs": [
    {
     "name": "stdout",
     "output_type": "stream",
     "text": [
      "\n",
      "\n",
      "\u001B[1m> Entering new  chain...\u001B[0m\n",
      "\u001B[32;1m\u001B[1;3mThe question is asking for targets linked with the disease EFO_0000756. We need to use the query DiseasesTargets and provide the EFO ID of the disease as input.\n",
      "Action: query_graphql\n",
      "Action Input: query DiseasesTargets { disease(efoId: \"EFO_0000756\") { id name associatedTargets { count rows { target { id approvedSymbol } score } } } }\u001B[0m\n",
      "Observation: \u001B[33;1m\u001B[1;3m\"{\\n  \\\"disease\\\": {\\n    \\\"id\\\": \\\"EFO_0000756\\\",\\n    \\\"name\\\": \\\"melanoma\\\",\\n    \\\"associatedTargets\\\": {\\n      \\\"count\\\": 8059,\\n      \\\"rows\\\": [\\n        {\\n          \\\"target\\\": {\\n            \\\"id\\\": \\\"ENSG00000147889\\\",\\n            \\\"approvedSymbol\\\": \\\"CDKN2A\\\"\\n          },\\n          \\\"score\\\": 0.9015566572669396\\n        },\\n        {\\n          \\\"target\\\": {\\n            \\\"id\\\": \\\"ENSG00000157764\\\",\\n            \\\"approvedSymbol\\\": \\\"BRAF\\\"\\n          },\\n          \\\"score\\\": 0.8607786372700651\\n        },\\n        {\\n          \\\"target\\\": {\\n            \\\"id\\\": \\\"ENSG00000169032\\\",\\n            \\\"approvedSymbol\\\": \\\"MAP2K1\\\"\\n          },\\n          \\\"score\\\": 0.8199120335728877\\n        },\\n        {\\n          \\\"target\\\": {\\n            \\\"id\\\": \\\"ENSG00000135446\\\",\\n            \\\"approvedSymbol\\\": \\\"CDK4\\\"\\n          },\\n          \\\"score\\\": 0.8187367436271022\\n        },\\n        {\\n          \\\"target\\\": {\\n            \\\"id\\\": \\\"ENSG00000171862\\\",\\n            \\\"approvedSymbol\\\": \\\"PTEN\\\"\\n          },\\n          \\\"score\\\": 0.8160410738484081\\n        },\\n        {\\n          \\\"target\\\": {\\n            \\\"id\\\": \\\"ENSG00000128513\\\",\\n            \\\"approvedSymbol\\\": \\\"POT1\\\"\\n          },\\n          \\\"score\\\": 0.8139329471395704\\n        },\\n        {\\n          \\\"target\\\": {\\n            \\\"id\\\": \\\"ENSG00000213281\\\",\\n            \\\"approvedSymbol\\\": \\\"NRAS\\\"\\n          },\\n          \\\"score\\\": 0.8123323912079876\\n        },\\n        {\\n          \\\"target\\\": {\\n            \\\"id\\\": \\\"ENSG00000126934\\\",\\n            \\\"approvedSymbol\\\": \\\"MAP2K2\\\"\\n          },\\n          \\\"score\\\": 0.7839464116653576\\n        },\\n        {\\n          \\\"target\\\": {\\n            \\\"id\\\": \\\"ENSG00000157404\\\",\\n            \\\"approvedSymbol\\\": \\\"KIT\\\"\\n          },\\n          \\\"score\\\": 0.7752336747436096\\n        },\\n        {\\n          \\\"target\\\": {\\n            \\\"id\\\": \\\"ENSG00000163930\\\",\\n            \\\"approvedSymbol\\\": \\\"BAP1\\\"\\n          },\\n          \\\"score\\\": 0.7653341430583847\\n        },\\n        {\\n          \\\"target\\\": {\\n            \\\"id\\\": \\\"ENSG00000156052\\\",\\n            \\\"approvedSymbol\\\": \\\"GNAQ\\\"\\n          },\\n          \\\"score\\\": 0.7615679300622201\\n        },\\n        {\\n          \\\"target\\\": {\\n            \\\"id\\\": \\\"ENSG00000088256\\\",\\n            \\\"approvedSymbol\\\": \\\"GNA11\\\"\\n          },\\n          \\\"score\\\": 0.756092296642304\\n        },\\n        {\\n          \\\"target\\\": {\\n            \\\"id\\\": \\\"ENSG00000196712\\\",\\n            \\\"approvedSymbol\\\": \\\"NF1\\\"\\n          },\\n          \\\"score\\\": 0.7410519708548667\\n        },\\n        {\\n          \\\"target\\\": {\\n            \\\"id\\\": \\\"ENSG00000136238\\\",\\n            \\\"approvedSymbol\\\": \\\"RAC1\\\"\\n          },\\n          \\\"score\\\": 0.7335219825460544\\n        },\\n        {\\n          \\\"target\\\": {\\n            \\\"id\\\": \\\"ENSG00000187098\\\",\\n            \\\"approvedSymbol\\\": \\\"MITF\\\"\\n          },\\n          \\\"score\\\": 0.7331279576875206\\n        },\\n        {\\n          \\\"target\\\": {\\n            \\\"id\\\": \\\"ENSG00000115524\\\",\\n            \\\"approvedSymbol\\\": \\\"SF3B1\\\"\\n          },\\n          \\\"score\\\": 0.7314706264762834\\n        },\\n        {\\n          \\\"target\\\": {\\n            \\\"id\\\": \\\"ENSG00000141510\\\",\\n            \\\"approvedSymbol\\\": \\\"TP53\\\"\\n          },\\n          \\\"score\\\": 0.7284089532807339\\n        },\\n        {\\n          \\\"target\\\": {\\n            \\\"id\\\": \\\"ENSG00000189079\\\",\\n            \\\"approvedSymbol\\\": \\\"ARID2\\\"\\n          },\\n          \\\"score\\\": 0.697247814919318\\n        },\\n        {\\n          \\\"target\\\": {\\n            \\\"id\\\": \\\"ENSG00000119414\\\",\\n            \\\"approvedSymbol\\\": \\\"PPP6C\\\"\\n          },\\n          \\\"score\\\": 0.6951885992813631\\n        },\\n        {\\n          \\\"target\\\": {\\n            \\\"id\\\": \\\"ENSG00000178568\\\",\\n            \\\"approvedSymbol\\\": \\\"ERBB4\\\"\\n          },\\n          \\\"score\\\": 0.6819788428367187\\n        },\\n        {\\n          \\\"target\\\": {\\n            \\\"id\\\": \\\"ENSG00000118046\\\",\\n            \\\"approvedSymbol\\\": \\\"STK11\\\"\\n          },\\n          \\\"score\\\": 0.6804603897768436\\n        },\\n        {\\n          \\\"target\\\": {\\n            \\\"id\\\": \\\"ENSG00000128052\\\",\\n            \\\"approvedSymbol\\\": \\\"KDR\\\"\\n          },\\n          \\\"score\\\": 0.6765795536116055\\n        },\\n        {\\n          \\\"target\\\": {\\n            \\\"id\\\": \\\"ENSG00000168036\\\",\\n            \\\"approvedSymbol\\\": \\\"CTNNB1\\\"\\n          },\\n          \\\"score\\\": 0.6728489462377212\\n        },\\n        {\\n          \\\"target\\\": {\\n            \\\"id\\\": \\\"ENSG00000132155\\\",\\n            \\\"approvedSymbol\\\": \\\"RAF1\\\"\\n          },\\n          \\\"score\\\": 0.6721890286466657\\n        },\\n        {\\n          \\\"target\\\": {\\n            \\\"id\\\": \\\"ENSG00000037280\\\",\\n            \\\"approvedSymbol\\\": \\\"FLT4\\\"\\n          },\\n          \\\"score\\\": 0.6698280225327161\\n        }\\n      ]\\n    }\\n  }\\n}\"\u001B[0m\n",
      "Thought:\u001B[32;1m\u001B[1;3mThe targets linked with the disease EFO_0000756 (melanoma) are:\n",
      "\n",
      "1. Target: CDKN2A, Approved Symbol: CDKN2A, Score: 0.9015566572669396\n",
      "2. Target: BRAF, Approved Symbol: BRAF, Score: 0.8607786372700651\n",
      "3. Target: MAP2K1, Approved Symbol: MAP2K1, Score: 0.8199120335728877\n",
      "4. Target: CDK4, Approved Symbol: CDK4, Score: 0.8187367436271022\n",
      "5. Target: PTEN, Approved Symbol: PTEN, Score: 0.8160410738484081\n",
      "6. Target: POT1, Approved Symbol: POT1, Score: 0.8139329471395704\n",
      "7. Target: NRAS, Approved Symbol: NRAS, Score: 0.8123323912079876\n",
      "8. Target: MAP2K2, Approved Symbol: MAP2K2, Score: 0.7839464116653576\n",
      "9. Target: KIT, Approved Symbol: KIT, Score: 0.7752336747436096\n",
      "10. Target: BAP1, Approved Symbol: BAP1, Score: 0.7653341430583847\n",
      "11. Target: GNAQ, Approved Symbol: GNAQ, Score: 0.7615679300622201\n",
      "12. Target: GNA11, Approved Symbol: GNA11, Score: 0.756092296642304\n",
      "13. Target: NF1, Approved Symbol: NF1, Score: 0.7410519708548667\n",
      "14. Target: RAC1, Approved Symbol: RAC1, Score: 0.7335219825460544\n",
      "15. Target: MITF, Approved Symbol: MITF, Score: 0.7331279576875206\n",
      "16. Target: SF3B1, Approved Symbol: SF3B1, Score: 0.7314706264762834\n",
      "17. Target: TP53, Approved Symbol: TP53, Score: 0.7284089532807339\n",
      "18. Target: ARID2, Approved Symbol: ARID2, Score: 0.697247814919318\n",
      "19. Target: PPP6C, Approved Symbol: PPP6C, Score: 0.6951885992813631\n",
      "20. Target: ERBB4, Approved Symbol: ERBB4, Score: 0.6819788428367187\n",
      "21. Target: STK11, Approved Symbol: STK11, Score: 0.6804603897768436\n",
      "22. Target: KDR, Approved Symbol: KDR, Score: 0.6765795536116055\n",
      "23. Target: CTNNB1, Approved Symbol: CTNNB1, Score: 0.6728489462377212\n",
      "24. Target: RAF1, Approved Symbol: RAF1, Score: 0.6721890286466657\n",
      "25. Target: FLT4, Approved Symbol: FLT4, Score: 0.6698280225327161\n",
      "\n",
      "Final Answer: The targets linked with the disease EFO_0000756 (melanoma) are CDKN2A, BRAF, MAP2K1, CDK4, PTEN, POT1, NRAS, MAP2K2, KIT, BAP1, GNAQ, GNA11, NF1, RAC1, MITF, SF3B1, TP53, ARID2, PPP6C, ERBB4, STK11, KDR, CTNNB1, RAF1, and FLT4.\u001B[0m\n",
      "\n",
      "\u001B[1m> Finished chain.\u001B[0m\n"
     ]
    },
    {
     "data": {
      "text/plain": "'The targets linked with the disease EFO_0000756 (melanoma) are CDKN2A, BRAF, MAP2K1, CDK4, PTEN, POT1, NRAS, MAP2K2, KIT, BAP1, GNAQ, GNA11, NF1, RAC1, MITF, SF3B1, TP53, ARID2, PPP6C, ERBB4, STK11, KDR, CTNNB1, RAF1, and FLT4.'"
     },
     "execution_count": 58,
     "metadata": {},
     "output_type": "execute_result"
    }
   ],
   "source": [
    "prefix = \"Context: The questions are related to get medical data, specifically data from OpenTargetPlatform\" \\\n",
    "         \"\" \\\n",
    "         \"If the question is about the relation among a target and diseases use the query TargetDiseases, \" \\\n",
    "         \"use the ensemblId of the target (which you can find get it from the organization ensembl) that in the variable target of the query.\" \\\n",
    "         \"\" \\\n",
    "         \"On the othr hand, if the question is about the relation between a disease and targets use the query DiseasesTargets, use the efoId of the disases in the variable of disease in the query\" \\\n",
    "\n",
    "\n",
    "\n",
    "graphql_fields = \"\"\"\n",
    "query TargetDiseases {\n",
    "  target(ensemblId: \"target\") {\n",
    "    id\n",
    "    approvedSymbol\n",
    "    associatedDiseases {\n",
    "      count\n",
    "      rows {\n",
    "        disease {\n",
    "          id\n",
    "          name\n",
    "        }\n",
    "        datasourceScores {\n",
    "          id\n",
    "          score\n",
    "        }\n",
    "      }\n",
    "    }\n",
    "  }\n",
    "}\n",
    "\n",
    "\n",
    "\n",
    "\n",
    "query DiseasesTargets {\n",
    "  disease(efoId: \"disease\") {\n",
    "    id\n",
    "    name\n",
    "    associatedTargets {\n",
    "      count\n",
    "      rows {\n",
    "        target {\n",
    "          id\n",
    "          approvedSymbol\n",
    "        }\n",
    "        score\n",
    "      }\n",
    "    }\n",
    "  }\n",
    "}\n",
    "\n",
    "\n",
    "\"\"\"\n",
    "\n",
    "# Ejemplo de preguntas\n",
    "suffix = \"What are the targets of vorinostat?\"\n",
    "#suffix = \"I need to find what targets are related to Hereditary breast and ovarian cancer syndrome\"\n",
    "suffix= \"What are the targets linked with the disease EFO_0000756?\"\n",
    "\n",
    "answer= agent.run(suffix + prefix+ graphql_fields)\n",
    "\n",
    "answer"
   ],
   "metadata": {
    "collapsed": false,
    "ExecuteTime": {
     "end_time": "2023-07-10T21:16:28.948509Z",
     "start_time": "2023-07-10T21:16:12.415888Z"
    }
   }
  },
  {
   "cell_type": "code",
   "execution_count": null,
   "outputs": [],
   "source": [],
   "metadata": {
    "collapsed": false
   }
  },
  {
   "cell_type": "code",
   "execution_count": null,
   "outputs": [],
   "source": [],
   "metadata": {
    "collapsed": false
   }
  }
 ],
 "metadata": {
  "kernelspec": {
   "display_name": "Python 3",
   "language": "python",
   "name": "python3"
  },
  "language_info": {
   "codemirror_mode": {
    "name": "ipython",
    "version": 2
   },
   "file_extension": ".py",
   "mimetype": "text/x-python",
   "name": "python",
   "nbconvert_exporter": "python",
   "pygments_lexer": "ipython2",
   "version": "2.7.6"
  }
 },
 "nbformat": 4,
 "nbformat_minor": 0
}
